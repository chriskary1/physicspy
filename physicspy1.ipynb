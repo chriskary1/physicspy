{
  "cells": [
    {
      "cell_type": "markdown",
      "source": [
        "**Δομή επιλογής, βασικές συναρτήσεις**"
      ],
      "metadata": {
        "id": "UhcqzDmrT0cN"
      }
    },
    {
      "cell_type": "markdown",
      "source": [
        "*   Να γράψετε πρόγραμμα που να μετατρέπει πολικές συντεταγμένες σε καρτεσιανές."
      ],
      "metadata": {
        "id": "_cY8-HeUUIfB"
      }
    },
    {
      "cell_type": "code",
      "execution_count": null,
      "metadata": {
        "id": "JsYjAzlqTyDl",
        "outputId": "3ba23d95-4d74-4042-d167-16b45a640dfd"
      },
      "outputs": [
        {
          "name": "stdout",
          "output_type": "stream",
          "text": [
            "Δώσε αντίνα 2\n",
            "Δώσε μοίρες 30\n",
            "(x,y)=( 1.7320508075688774 0.9999999999999999 )\n"
          ]
        }
      ],
      "source": [
        "import math as mt\n",
        "\n",
        "r=float(input('Δώσε ακτίνα '))\n",
        "theta=float(input('Δώσε μοίρες '))\n",
        "\n",
        "phi=mt.pi*theta/180\n",
        "x=r*mt.cos(phi)\n",
        "y=r*mt.sin(phi)\n",
        "print('(x,y)=(',x,y,')')\n",
        "\n"
      ]
    },
    {
      "cell_type": "markdown",
      "source": [
        "*   Υπολογίστε τον χρόνο ελεύθερης πτώσης ενός σώματος από δεδομένο ύψος."
      ],
      "metadata": {
        "id": "LpgkUi4rUT0W"
      }
    },
    {
      "cell_type": "code",
      "execution_count": null,
      "metadata": {
        "id": "KoO1Q79RTyDo",
        "outputId": "850df20d-eb2c-4db3-c8c9-e35f580ed014"
      },
      "outputs": [
        {
          "name": "stdout",
          "output_type": "stream",
          "text": [
            "Δώσε ύψος σε μέτρα: 45\n",
            "Χρόνος πτώσης  3.0 s\n"
          ]
        }
      ],
      "source": [
        "import math as mt\n",
        "\n",
        "g=10\n",
        "h=float(input('Δώσε ύψος σε μέτρα: '))\n",
        "\n",
        "t=mt.sqrt(2*h/g)\n",
        "print('Χρόνος πτώσης ',t,'s')"
      ]
    },
    {
      "cell_type": "markdown",
      "source": [
        "*   Δίνετε η ακτίνα μιας σφαίρας. Να υπολογίσετε το εμβαδόν επιφάνειας και τον όγκο της."
      ],
      "metadata": {
        "id": "QBn7M793UfkX"
      }
    },
    {
      "cell_type": "code",
      "execution_count": null,
      "metadata": {
        "colab": {
          "base_uri": "https://localhost:8080/"
        },
        "id": "yXGoIyFzTyDq",
        "outputId": "091a64fb-ac43-4749-b572-cba7c55bc581"
      },
      "outputs": [
        {
          "output_type": "stream",
          "name": "stdout",
          "text": [
            "ακτίνα σφαίρας σε μέτρα: 4\n",
            "Εμβαδόν επιφάνειας =  201.06192982974676\n",
            "Όγκος =  268.082573106329\n"
          ]
        }
      ],
      "source": [
        "import math as mt\n",
        "\n",
        "r=float(input('ακτίνα σφαίρας σε μέτρα: '))\n",
        "\n",
        "print('Εμβαδόν επιφάνειας = ',4*mt.pi*r*r)\n",
        "print('Όγκος = ',4*mt.pi*r*r*r/3)\n",
        "\n"
      ]
    },
    {
      "cell_type": "markdown",
      "source": [
        "*   Να υπολογίσετε την απόσταση δύο σημείων του επιπέδου, αν δίνονται οι καρτσεσιανές συντεταγμένες τους."
      ],
      "metadata": {
        "id": "as55AQC9UsA4"
      }
    },
    {
      "cell_type": "code",
      "execution_count": null,
      "metadata": {
        "id": "DaGC-P8HTyDr",
        "outputId": "bf7a07fd-6b4e-4934-9636-201f565bfb1d"
      },
      "outputs": [
        {
          "name": "stdout",
          "output_type": "stream",
          "text": [
            "x1=0\n",
            "y1=0\n",
            "x2=1\n",
            "y2=1\n",
            "Απόσταση =  1.4142135623730951\n"
          ]
        }
      ],
      "source": [
        "import math as mt\n",
        "\n",
        "x1=float(input('x1='))\n",
        "y1=float(input('y1='))\n",
        "x2=float(input('x2='))\n",
        "y2=float(input('y2='))\n",
        "\n",
        "d=mt.sqrt((x1-x2)**2+(y1-y2)**2)\n",
        "print('Απόσταση = ',d)\n",
        "\n",
        "\n"
      ]
    },
    {
      "cell_type": "markdown",
      "source": [
        "*   Να υπολογίσετε το πηλίκο και το υπόλοιπο δύο ακεραίων."
      ],
      "metadata": {
        "id": "OjssELZMU378"
      }
    },
    {
      "cell_type": "code",
      "execution_count": null,
      "metadata": {
        "id": "hA-HxJ8KTyDt",
        "outputId": "eed6a15c-15a0-4c7e-a9b7-36846523cc36"
      },
      "outputs": [
        {
          "name": "stdout",
          "output_type": "stream",
          "text": [
            "Διαιρεταίος: 17\n",
            "Διαιρέτης: 5\n",
            "Πηλίκο =  3\n",
            "Υπόλοιπο =  2\n"
          ]
        }
      ],
      "source": [
        "x=int(input('Διαιρεταίος: '))\n",
        "y=int(input('Διαιρέτης: '))\n",
        "\n",
        "print('Πηλίκο = ',x//y)\n",
        "print('Υπόλοιπο = ',x%y)\n"
      ]
    },
    {
      "cell_type": "markdown",
      "source": [
        "**Eξίσωση Manning**\n",
        "\n",
        "Η εξίσωση Manning χρησιμοποείται για τον υπολογισμό της ταχύτητας του νερού σε έναν ανοιχτό αγωγό ορθογώνιας διατομής\n",
        "\n",
        "U=sqrt(s)/n (BH/(B+2H))^2/3\n",
        "\n",
        "όπου U η ταχύτητα (m/s), S η κλίση του αγωγού, n ο συντελεστής ταχύτητας, B το πλάτος (m) και H το βάθος (m).\n",
        "Δίνονται τα δεδομένα για πέντε αγωγούς, να υπολογίσετε την ταχύτητα του νερού και να εμφανίσετε τα αποτελέσματα σε μορφή πίνακα.\n"
      ],
      "metadata": {
        "id": "3EOWUMJjIBem"
      }
    },
    {
      "cell_type": "code",
      "source": [
        "import math as mt\n",
        "from IPython.display import display\n",
        "import pandas as pd\n",
        "\n",
        "\n",
        "n=[0.035, 0.020, 0.015, 0.030, 0.022]\n",
        "S=[0.0001, 0.0002, 0.0010, 0.0007, 0.0003]\n",
        "B=[10, 8, 20, 24, 15]\n",
        "H=[2, 1, 1.5, 3, 2.5]\n",
        "\n",
        "U=[0,0,0,0,0]\n",
        "for i in range(5):\n",
        " U[i]=mt.sqrt(S[i])/n[i]*(B[i]*H[i]/(B[i]+2*H[i])**(2/3))\n",
        "\n",
        "dict={'n':n,\n",
        "      'S':S,\n",
        "      'B':B,\n",
        "      'H':H,\n",
        "      'U':U}\n",
        "df=pd.DataFrame(dict)\n",
        "display(df)\n",
        "\n"
      ],
      "metadata": {
        "colab": {
          "base_uri": "https://localhost:8080/",
          "height": 206
        },
        "id": "BrNkwB2UJ--r",
        "outputId": "367ea0d1-fde0-40db-bdf8-56007c8ee0f5"
      },
      "execution_count": null,
      "outputs": [
        {
          "output_type": "display_data",
          "data": {
            "text/plain": [
              "       n       S   B    H         U\n",
              "0  0.035  0.0001  10  2.0  0.983732\n",
              "1  0.020  0.0002   8  1.0  1.218732\n",
              "2  0.015  0.0010  20  1.5  7.820084\n",
              "3  0.030  0.0007  24  3.0  6.576772\n",
              "4  0.022  0.0003  15  2.5  4.006968"
            ],
            "text/html": [
              "\n",
              "  <div id=\"df-4012e5ba-f18c-4041-822c-75e859e6e28f\" class=\"colab-df-container\">\n",
              "    <div>\n",
              "<style scoped>\n",
              "    .dataframe tbody tr th:only-of-type {\n",
              "        vertical-align: middle;\n",
              "    }\n",
              "\n",
              "    .dataframe tbody tr th {\n",
              "        vertical-align: top;\n",
              "    }\n",
              "\n",
              "    .dataframe thead th {\n",
              "        text-align: right;\n",
              "    }\n",
              "</style>\n",
              "<table border=\"1\" class=\"dataframe\">\n",
              "  <thead>\n",
              "    <tr style=\"text-align: right;\">\n",
              "      <th></th>\n",
              "      <th>n</th>\n",
              "      <th>S</th>\n",
              "      <th>B</th>\n",
              "      <th>H</th>\n",
              "      <th>U</th>\n",
              "    </tr>\n",
              "  </thead>\n",
              "  <tbody>\n",
              "    <tr>\n",
              "      <th>0</th>\n",
              "      <td>0.035</td>\n",
              "      <td>0.0001</td>\n",
              "      <td>10</td>\n",
              "      <td>2.0</td>\n",
              "      <td>0.983732</td>\n",
              "    </tr>\n",
              "    <tr>\n",
              "      <th>1</th>\n",
              "      <td>0.020</td>\n",
              "      <td>0.0002</td>\n",
              "      <td>8</td>\n",
              "      <td>1.0</td>\n",
              "      <td>1.218732</td>\n",
              "    </tr>\n",
              "    <tr>\n",
              "      <th>2</th>\n",
              "      <td>0.015</td>\n",
              "      <td>0.0010</td>\n",
              "      <td>20</td>\n",
              "      <td>1.5</td>\n",
              "      <td>7.820084</td>\n",
              "    </tr>\n",
              "    <tr>\n",
              "      <th>3</th>\n",
              "      <td>0.030</td>\n",
              "      <td>0.0007</td>\n",
              "      <td>24</td>\n",
              "      <td>3.0</td>\n",
              "      <td>6.576772</td>\n",
              "    </tr>\n",
              "    <tr>\n",
              "      <th>4</th>\n",
              "      <td>0.022</td>\n",
              "      <td>0.0003</td>\n",
              "      <td>15</td>\n",
              "      <td>2.5</td>\n",
              "      <td>4.006968</td>\n",
              "    </tr>\n",
              "  </tbody>\n",
              "</table>\n",
              "</div>\n",
              "    <div class=\"colab-df-buttons\">\n",
              "\n",
              "  <div class=\"colab-df-container\">\n",
              "    <button class=\"colab-df-convert\" onclick=\"convertToInteractive('df-4012e5ba-f18c-4041-822c-75e859e6e28f')\"\n",
              "            title=\"Convert this dataframe to an interactive table.\"\n",
              "            style=\"display:none;\">\n",
              "\n",
              "  <svg xmlns=\"http://www.w3.org/2000/svg\" height=\"24px\" viewBox=\"0 -960 960 960\">\n",
              "    <path d=\"M120-120v-720h720v720H120Zm60-500h600v-160H180v160Zm220 220h160v-160H400v160Zm0 220h160v-160H400v160ZM180-400h160v-160H180v160Zm440 0h160v-160H620v160ZM180-180h160v-160H180v160Zm440 0h160v-160H620v160Z\"/>\n",
              "  </svg>\n",
              "    </button>\n",
              "\n",
              "  <style>\n",
              "    .colab-df-container {\n",
              "      display:flex;\n",
              "      gap: 12px;\n",
              "    }\n",
              "\n",
              "    .colab-df-convert {\n",
              "      background-color: #E8F0FE;\n",
              "      border: none;\n",
              "      border-radius: 50%;\n",
              "      cursor: pointer;\n",
              "      display: none;\n",
              "      fill: #1967D2;\n",
              "      height: 32px;\n",
              "      padding: 0 0 0 0;\n",
              "      width: 32px;\n",
              "    }\n",
              "\n",
              "    .colab-df-convert:hover {\n",
              "      background-color: #E2EBFA;\n",
              "      box-shadow: 0px 1px 2px rgba(60, 64, 67, 0.3), 0px 1px 3px 1px rgba(60, 64, 67, 0.15);\n",
              "      fill: #174EA6;\n",
              "    }\n",
              "\n",
              "    .colab-df-buttons div {\n",
              "      margin-bottom: 4px;\n",
              "    }\n",
              "\n",
              "    [theme=dark] .colab-df-convert {\n",
              "      background-color: #3B4455;\n",
              "      fill: #D2E3FC;\n",
              "    }\n",
              "\n",
              "    [theme=dark] .colab-df-convert:hover {\n",
              "      background-color: #434B5C;\n",
              "      box-shadow: 0px 1px 3px 1px rgba(0, 0, 0, 0.15);\n",
              "      filter: drop-shadow(0px 1px 2px rgba(0, 0, 0, 0.3));\n",
              "      fill: #FFFFFF;\n",
              "    }\n",
              "  </style>\n",
              "\n",
              "    <script>\n",
              "      const buttonEl =\n",
              "        document.querySelector('#df-4012e5ba-f18c-4041-822c-75e859e6e28f button.colab-df-convert');\n",
              "      buttonEl.style.display =\n",
              "        google.colab.kernel.accessAllowed ? 'block' : 'none';\n",
              "\n",
              "      async function convertToInteractive(key) {\n",
              "        const element = document.querySelector('#df-4012e5ba-f18c-4041-822c-75e859e6e28f');\n",
              "        const dataTable =\n",
              "          await google.colab.kernel.invokeFunction('convertToInteractive',\n",
              "                                                    [key], {});\n",
              "        if (!dataTable) return;\n",
              "\n",
              "        const docLinkHtml = 'Like what you see? Visit the ' +\n",
              "          '<a target=\"_blank\" href=https://colab.research.google.com/notebooks/data_table.ipynb>data table notebook</a>'\n",
              "          + ' to learn more about interactive tables.';\n",
              "        element.innerHTML = '';\n",
              "        dataTable['output_type'] = 'display_data';\n",
              "        await google.colab.output.renderOutput(dataTable, element);\n",
              "        const docLink = document.createElement('div');\n",
              "        docLink.innerHTML = docLinkHtml;\n",
              "        element.appendChild(docLink);\n",
              "      }\n",
              "    </script>\n",
              "  </div>\n",
              "\n",
              "\n",
              "<div id=\"df-94bf42b5-2e3a-4817-9842-88deb422c68a\">\n",
              "  <button class=\"colab-df-quickchart\" onclick=\"quickchart('df-94bf42b5-2e3a-4817-9842-88deb422c68a')\"\n",
              "            title=\"Suggest charts\"\n",
              "            style=\"display:none;\">\n",
              "\n",
              "<svg xmlns=\"http://www.w3.org/2000/svg\" height=\"24px\"viewBox=\"0 0 24 24\"\n",
              "     width=\"24px\">\n",
              "    <g>\n",
              "        <path d=\"M19 3H5c-1.1 0-2 .9-2 2v14c0 1.1.9 2 2 2h14c1.1 0 2-.9 2-2V5c0-1.1-.9-2-2-2zM9 17H7v-7h2v7zm4 0h-2V7h2v10zm4 0h-2v-4h2v4z\"/>\n",
              "    </g>\n",
              "</svg>\n",
              "  </button>\n",
              "\n",
              "<style>\n",
              "  .colab-df-quickchart {\n",
              "      --bg-color: #E8F0FE;\n",
              "      --fill-color: #1967D2;\n",
              "      --hover-bg-color: #E2EBFA;\n",
              "      --hover-fill-color: #174EA6;\n",
              "      --disabled-fill-color: #AAA;\n",
              "      --disabled-bg-color: #DDD;\n",
              "  }\n",
              "\n",
              "  [theme=dark] .colab-df-quickchart {\n",
              "      --bg-color: #3B4455;\n",
              "      --fill-color: #D2E3FC;\n",
              "      --hover-bg-color: #434B5C;\n",
              "      --hover-fill-color: #FFFFFF;\n",
              "      --disabled-bg-color: #3B4455;\n",
              "      --disabled-fill-color: #666;\n",
              "  }\n",
              "\n",
              "  .colab-df-quickchart {\n",
              "    background-color: var(--bg-color);\n",
              "    border: none;\n",
              "    border-radius: 50%;\n",
              "    cursor: pointer;\n",
              "    display: none;\n",
              "    fill: var(--fill-color);\n",
              "    height: 32px;\n",
              "    padding: 0;\n",
              "    width: 32px;\n",
              "  }\n",
              "\n",
              "  .colab-df-quickchart:hover {\n",
              "    background-color: var(--hover-bg-color);\n",
              "    box-shadow: 0 1px 2px rgba(60, 64, 67, 0.3), 0 1px 3px 1px rgba(60, 64, 67, 0.15);\n",
              "    fill: var(--button-hover-fill-color);\n",
              "  }\n",
              "\n",
              "  .colab-df-quickchart-complete:disabled,\n",
              "  .colab-df-quickchart-complete:disabled:hover {\n",
              "    background-color: var(--disabled-bg-color);\n",
              "    fill: var(--disabled-fill-color);\n",
              "    box-shadow: none;\n",
              "  }\n",
              "\n",
              "  .colab-df-spinner {\n",
              "    border: 2px solid var(--fill-color);\n",
              "    border-color: transparent;\n",
              "    border-bottom-color: var(--fill-color);\n",
              "    animation:\n",
              "      spin 1s steps(1) infinite;\n",
              "  }\n",
              "\n",
              "  @keyframes spin {\n",
              "    0% {\n",
              "      border-color: transparent;\n",
              "      border-bottom-color: var(--fill-color);\n",
              "      border-left-color: var(--fill-color);\n",
              "    }\n",
              "    20% {\n",
              "      border-color: transparent;\n",
              "      border-left-color: var(--fill-color);\n",
              "      border-top-color: var(--fill-color);\n",
              "    }\n",
              "    30% {\n",
              "      border-color: transparent;\n",
              "      border-left-color: var(--fill-color);\n",
              "      border-top-color: var(--fill-color);\n",
              "      border-right-color: var(--fill-color);\n",
              "    }\n",
              "    40% {\n",
              "      border-color: transparent;\n",
              "      border-right-color: var(--fill-color);\n",
              "      border-top-color: var(--fill-color);\n",
              "    }\n",
              "    60% {\n",
              "      border-color: transparent;\n",
              "      border-right-color: var(--fill-color);\n",
              "    }\n",
              "    80% {\n",
              "      border-color: transparent;\n",
              "      border-right-color: var(--fill-color);\n",
              "      border-bottom-color: var(--fill-color);\n",
              "    }\n",
              "    90% {\n",
              "      border-color: transparent;\n",
              "      border-bottom-color: var(--fill-color);\n",
              "    }\n",
              "  }\n",
              "</style>\n",
              "\n",
              "  <script>\n",
              "    async function quickchart(key) {\n",
              "      const quickchartButtonEl =\n",
              "        document.querySelector('#' + key + ' button');\n",
              "      quickchartButtonEl.disabled = true;  // To prevent multiple clicks.\n",
              "      quickchartButtonEl.classList.add('colab-df-spinner');\n",
              "      try {\n",
              "        const charts = await google.colab.kernel.invokeFunction(\n",
              "            'suggestCharts', [key], {});\n",
              "      } catch (error) {\n",
              "        console.error('Error during call to suggestCharts:', error);\n",
              "      }\n",
              "      quickchartButtonEl.classList.remove('colab-df-spinner');\n",
              "      quickchartButtonEl.classList.add('colab-df-quickchart-complete');\n",
              "    }\n",
              "    (() => {\n",
              "      let quickchartButtonEl =\n",
              "        document.querySelector('#df-94bf42b5-2e3a-4817-9842-88deb422c68a button');\n",
              "      quickchartButtonEl.style.display =\n",
              "        google.colab.kernel.accessAllowed ? 'block' : 'none';\n",
              "    })();\n",
              "  </script>\n",
              "</div>\n",
              "\n",
              "  <div id=\"id_4571ab17-4b43-4c3f-9f90-1a6798fde97e\">\n",
              "    <style>\n",
              "      .colab-df-generate {\n",
              "        background-color: #E8F0FE;\n",
              "        border: none;\n",
              "        border-radius: 50%;\n",
              "        cursor: pointer;\n",
              "        display: none;\n",
              "        fill: #1967D2;\n",
              "        height: 32px;\n",
              "        padding: 0 0 0 0;\n",
              "        width: 32px;\n",
              "      }\n",
              "\n",
              "      .colab-df-generate:hover {\n",
              "        background-color: #E2EBFA;\n",
              "        box-shadow: 0px 1px 2px rgba(60, 64, 67, 0.3), 0px 1px 3px 1px rgba(60, 64, 67, 0.15);\n",
              "        fill: #174EA6;\n",
              "      }\n",
              "\n",
              "      [theme=dark] .colab-df-generate {\n",
              "        background-color: #3B4455;\n",
              "        fill: #D2E3FC;\n",
              "      }\n",
              "\n",
              "      [theme=dark] .colab-df-generate:hover {\n",
              "        background-color: #434B5C;\n",
              "        box-shadow: 0px 1px 3px 1px rgba(0, 0, 0, 0.15);\n",
              "        filter: drop-shadow(0px 1px 2px rgba(0, 0, 0, 0.3));\n",
              "        fill: #FFFFFF;\n",
              "      }\n",
              "    </style>\n",
              "    <button class=\"colab-df-generate\" onclick=\"generateWithVariable('df')\"\n",
              "            title=\"Generate code using this dataframe.\"\n",
              "            style=\"display:none;\">\n",
              "\n",
              "  <svg xmlns=\"http://www.w3.org/2000/svg\" height=\"24px\"viewBox=\"0 0 24 24\"\n",
              "       width=\"24px\">\n",
              "    <path d=\"M7,19H8.4L18.45,9,17,7.55,7,17.6ZM5,21V16.75L18.45,3.32a2,2,0,0,1,2.83,0l1.4,1.43a1.91,1.91,0,0,1,.58,1.4,1.91,1.91,0,0,1-.58,1.4L9.25,21ZM18.45,9,17,7.55Zm-12,3A5.31,5.31,0,0,0,4.9,8.1,5.31,5.31,0,0,0,1,6.5,5.31,5.31,0,0,0,4.9,4.9,5.31,5.31,0,0,0,6.5,1,5.31,5.31,0,0,0,8.1,4.9,5.31,5.31,0,0,0,12,6.5,5.46,5.46,0,0,0,6.5,12Z\"/>\n",
              "  </svg>\n",
              "    </button>\n",
              "    <script>\n",
              "      (() => {\n",
              "      const buttonEl =\n",
              "        document.querySelector('#id_4571ab17-4b43-4c3f-9f90-1a6798fde97e button.colab-df-generate');\n",
              "      buttonEl.style.display =\n",
              "        google.colab.kernel.accessAllowed ? 'block' : 'none';\n",
              "\n",
              "      buttonEl.onclick = () => {\n",
              "        google.colab.notebook.generateWithVariable('df');\n",
              "      }\n",
              "      })();\n",
              "    </script>\n",
              "  </div>\n",
              "\n",
              "    </div>\n",
              "  </div>\n"
            ],
            "application/vnd.google.colaboratory.intrinsic+json": {
              "type": "dataframe",
              "variable_name": "df",
              "summary": "{\n  \"name\": \"df\",\n  \"rows\": 5,\n  \"fields\": [\n    {\n      \"column\": \"n\",\n      \"properties\": {\n        \"dtype\": \"number\",\n        \"std\": 0.008018728078691783,\n        \"min\": 0.015,\n        \"max\": 0.035,\n        \"num_unique_values\": 5,\n        \"samples\": [\n          0.02,\n          0.022,\n          0.015\n        ],\n        \"semantic_type\": \"\",\n        \"description\": \"\"\n      }\n    },\n    {\n      \"column\": \"S\",\n      \"properties\": {\n        \"dtype\": \"number\",\n        \"std\": 0.0003781534080237808,\n        \"min\": 0.0001,\n        \"max\": 0.001,\n        \"num_unique_values\": 5,\n        \"samples\": [\n          0.0002,\n          0.0003,\n          0.001\n        ],\n        \"semantic_type\": \"\",\n        \"description\": \"\"\n      }\n    },\n    {\n      \"column\": \"B\",\n      \"properties\": {\n        \"dtype\": \"number\",\n        \"std\": 6,\n        \"min\": 8,\n        \"max\": 24,\n        \"num_unique_values\": 5,\n        \"samples\": [\n          8,\n          15,\n          20\n        ],\n        \"semantic_type\": \"\",\n        \"description\": \"\"\n      }\n    },\n    {\n      \"column\": \"H\",\n      \"properties\": {\n        \"dtype\": \"number\",\n        \"std\": 0.7905694150420949,\n        \"min\": 1.0,\n        \"max\": 3.0,\n        \"num_unique_values\": 5,\n        \"samples\": [\n          1.0,\n          2.5,\n          1.5\n        ],\n        \"semantic_type\": \"\",\n        \"description\": \"\"\n      }\n    },\n    {\n      \"column\": \"U\",\n      \"properties\": {\n        \"dtype\": \"number\",\n        \"std\": 3.0819090404406726,\n        \"min\": 0.9837315363980531,\n        \"max\": 7.820084364239239,\n        \"num_unique_values\": 5,\n        \"samples\": [\n          1.2187323031560662,\n          4.006968089405451,\n          7.820084364239239\n        ],\n        \"semantic_type\": \"\",\n        \"description\": \"\"\n      }\n    }\n  ]\n}"
            }
          },
          "metadata": {}
        }
      ]
    }
  ],
  "metadata": {
    "kernelspec": {
      "display_name": "Python 3",
      "language": "python",
      "name": "python3"
    },
    "language_info": {
      "codemirror_mode": {
        "name": "ipython",
        "version": 3
      },
      "file_extension": ".py",
      "mimetype": "text/x-python",
      "name": "python",
      "nbconvert_exporter": "python",
      "pygments_lexer": "ipython3",
      "version": "3.7.0"
    },
    "colab": {
      "provenance": []
    }
  },
  "nbformat": 4,
  "nbformat_minor": 0
}