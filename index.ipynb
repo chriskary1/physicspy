{
  "nbformat": 4,
  "nbformat_minor": 0,
  "metadata": {
    "colab": {
      "provenance": []
    },
    "kernelspec": {
      "name": "python3",
      "display_name": "Python 3"
    },
    "language_info": {
      "name": "python"
    }
  },
  "cells": [
    {
      "cell_type": "markdown",
      "source": [
        "**Περιεχόμενα**\n",
        "\n",
        "\n",
        "*Εισαγωγή*\n",
        "1.   [Δομή επιλογής, βασικές συναρτήσεις](https://colab.research.google.com/drive/1TwIx1StczXyKzgosIKF2gFQ0qD2D4ySB?usp=drive_link)\n",
        "2.   [Δομή ελέγχου](https://colab.research.google.com/drive/1QjMyuUtKB6uWbCPXYQO544NIdRL9j0wn?usp=drive_link)\n",
        "1.   [Δομή επανάληψης](https://colab.research.google.com/drive/13x5Y-7UB5jkybLnJXDpXRxr8MrX_gitM?usp=drive_link)\n",
        "2.   [Λίστες](https://colab.research.google.com/drive/1ki9MqctC9sJNF7dOIUqnKCpS0HFAKbHn?usp=drive_link)\n",
        "1.   [Γραφικές παραστάσεις](https://colab.research.google.com/drive/15UvqJEuqjxZZCjHSS0L9SnR1-lAkfl03?usp=drive_link)\n",
        "2.   [Γραφικές παραστάσεις συναρτήσεων](https://colab.research.google.com/drive/1r1Eq7L0VYOR_eL-IDLIkG4lIShngr1ZG?usp=drive_link)\n",
        "\n",
        "\n",
        "\n",
        "1.   [Διαφορικές εξισώσεις](https://colab.research.google.com/drive/1aIcKM-S0m_ts8WBnc0tFzJepR-4jd1q-?usp=drive_link)\n",
        "\n",
        "*Εφαρμογές*\n",
        "\n",
        "\n",
        "*   [Κίνηση υπό την επίδραση τριβής, ανάλογης με την ταχύτητα](https://colab.research.google.com/drive/1F2Osk6xK1hhTaI8gTXiLh_BPE7U5XC6Q?usp=drive_link)\n",
        "*   [Κίνηση στο ομογενές πεδίο βαρύτητας με τριβή ανάλογη προς την ταχύτητα](https://colab.research.google.com/drive/1AR1P-5TwQ9XHBzWzMSKouabRQiGIu0IG?usp=sharing)\n",
        "\n",
        "\n",
        "\n",
        "\n",
        "\n",
        "\n",
        "\n",
        "\n",
        "\n",
        "\n",
        "\n",
        "\n",
        "\n",
        "\n"
      ],
      "metadata": {
        "id": "3wEgyRgyCR8X"
      }
    }
  ]
}