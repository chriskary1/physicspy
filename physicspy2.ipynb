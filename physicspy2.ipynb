{
  "cells": [
    {
      "cell_type": "markdown",
      "source": [
        "**Δομή ελέγχου**"
      ],
      "metadata": {
        "id": "bGTbr_a1S3sx"
      }
    },
    {
      "cell_type": "markdown",
      "source": [
        "*   Να υπολογίσετε τον μέγιστο μεταξύ τριών ακεραίων αριθμών\n"
      ],
      "metadata": {
        "id": "0myPWZVoYzFs"
      }
    },
    {
      "cell_type": "code",
      "execution_count": null,
      "metadata": {
        "id": "xRrX1c6PPX2O",
        "outputId": "92bd3dce-73f5-4bd3-ec2e-8492938bcffa"
      },
      "outputs": [
        {
          "name": "stdout",
          "output_type": "stream",
          "text": [
            "20\n"
          ]
        }
      ],
      "source": [
        "a,b,c=10,4,20\n",
        "max=a\n",
        "if b>max:\n",
        "    max=b\n",
        "elif c>max:\n",
        "    max=c\n",
        "\n",
        "print(max)"
      ]
    },
    {
      "cell_type": "markdown",
      "source": [
        "*   Να ελέγξετε αν ένα τρίγωνο είναι ορθογώνιο.\n"
      ],
      "metadata": {
        "id": "Rk1qNhqPb5ej"
      }
    },
    {
      "cell_type": "code",
      "execution_count": null,
      "metadata": {
        "colab": {
          "base_uri": "https://localhost:8080/"
        },
        "id": "mHLBhSK8PX2S",
        "outputId": "a7ab7caa-3561-4434-cf1d-3c0a75f43b5e"
      },
      "outputs": [
        {
          "output_type": "stream",
          "name": "stdout",
          "text": [
            "Ορθογώνιο στο Β\n"
          ]
        }
      ],
      "source": [
        "a=4\n",
        "b=5\n",
        "c=3\n",
        "\n",
        "if a+b>c and a+c>b:\n",
        "    if a**2==b**2+c**2:\n",
        "        print('Ορθογώνιο στο Α')\n",
        "    elif b**2==a**2+c**2:\n",
        "        print('Ορθογώνιο στο Β')\n",
        "    elif c**2==a**2+b**2:\n",
        "        print('Ορθογώνιο στο Γ')\n",
        "else:\n",
        "    print('Οι πλευρές δεν ορίζουν τρίγωνο.')"
      ]
    },
    {
      "cell_type": "markdown",
      "source": [
        "*   Στην πυρηνική φυσική υπολογίζουμε την ενέργεια σύνδεσης B ενός ατομικού πυρήνα με ατομικό αριθμό Z και ατομική μάζα A από\n",
        "την εξίσωση:B=a1*A-a2*A^(2/3)-a3*Z^2/A^(1/3) -a4*(A-2Z)^2/A+a5/A^(1/2)\n",
        "όπου σε μονάδες eV οι σταθερές είναι α1=15.8, α2=18.3, α3=0.714, α4=23.2 και\n",
        "α5 ίσον με 0 αν Α περιττός, ίσον με 12 αν Α και Ζ άρτιοι και -12 αν Α είναι άρτιος και Ζ περιττός.\n",
        "\n"
      ],
      "metadata": {
        "id": "OUl_M1GecBRU"
      }
    },
    {
      "cell_type": "code",
      "execution_count": null,
      "metadata": {
        "id": "J_n8OSBQPX2U",
        "outputId": "79324a27-6e43-4d94-f507-6d674c39292f"
      },
      "outputs": [
        {
          "name": "stdout",
          "output_type": "stream",
          "text": [
            "Ατομικός αριθμός: 28\n",
            "Μαζικός αιθμός: 58\n",
            "497.5620206224374\n"
          ]
        }
      ],
      "source": [
        "Z=int(input('Ατομικός αριθμός: '))\n",
        "A=int(input('Μαζικός αιθμός: '))\n",
        "\n",
        "a1=15.8\n",
        "a2=18.3\n",
        "a3=0.714\n",
        "a4=23.2\n",
        "\n",
        "if A%2==1:\n",
        "    a5=0\n",
        "elif A%2==0 and Z%2==0:\n",
        "    a5=12\n",
        "elif A%2==0 and Z%2==1:\n",
        "    a5=-12\n",
        "\n",
        "B=a1*A-a2*A**(2/3)-a3*Z**2/A**(1/3)-a4*(A-2*Z)**2/A+a5/A**(1/2)\n",
        "print(B)\n"
      ]
    }
  ],
  "metadata": {
    "kernelspec": {
      "display_name": "Python 3",
      "language": "python",
      "name": "python3"
    },
    "language_info": {
      "codemirror_mode": {
        "name": "ipython",
        "version": 3
      },
      "file_extension": ".py",
      "mimetype": "text/x-python",
      "name": "python",
      "nbconvert_exporter": "python",
      "pygments_lexer": "ipython3",
      "version": "3.7.0"
    },
    "colab": {
      "provenance": []
    }
  },
  "nbformat": 4,
  "nbformat_minor": 0
}